{
 "cells": [
  {
   "cell_type": "markdown",
   "id": "1c5733d2-8e35-4dae-8a64-81292283d1aa",
   "metadata": {},
   "source": [
    "# Environment & Config Check"
   ]
  },
  {
   "cell_type": "code",
   "execution_count": 1,
   "id": "ee90a6ca-cd48-4074-bfb9-9c55cf10eee0",
   "metadata": {},
   "outputs": [
    {
     "name": "stdout",
     "output_type": "stream",
     "text": [
      "API_KEY present: True\n",
      "NumPy array operation: [2 4 6]\n",
      "Python version: 3.11.13 (main, Jun  5 2025, 08:21:08) [Clang 14.0.6 ]\n"
     ]
    }
   ],
   "source": [
    "import sys\n",
    "import os\n",
    "\n",
    "# Add parent folder (homework2) to Python path\n",
    "sys.path.append(os.path.abspath('..'))\n",
    "\n",
    "# Step 2: Import your config functions\n",
    "from src.config import load_env, get_key\n",
    "\n",
    "# Step 3: Import NumPy for demo\n",
    "import numpy as np\n",
    "\n",
    "# Step 4: Load environment variables from .env\n",
    "load_env()\n",
    "\n",
    "# Step 5: Test if API_KEY is loaded\n",
    "api_key = get_key(\"API_KEY\")\n",
    "print(\"API_KEY present:\", api_key is not None)\n",
    "\n",
    "# Step 6: Test a small NumPy operation\n",
    "arr = np.array([1, 2, 3])\n",
    "arr2 = arr * 2\n",
    "print(\"NumPy array operation:\", arr2)\n",
    "\n",
    "# Step 7: Check Python version\n",
    "import sys\n",
    "print(\"Python version:\", sys.version)"
   ]
  },
  {
   "cell_type": "code",
   "execution_count": null,
   "id": "a874f1a6-4941-4212-8ec2-efad7a5b6804",
   "metadata": {},
   "outputs": [],
   "source": []
  }
 ],
 "metadata": {
  "kernelspec": {
   "display_name": "Python 3 (ipykernel)",
   "language": "python",
   "name": "python3"
  },
  "language_info": {
   "codemirror_mode": {
    "name": "ipython",
    "version": 3
   },
   "file_extension": ".py",
   "mimetype": "text/x-python",
   "name": "python",
   "nbconvert_exporter": "python",
   "pygments_lexer": "ipython3",
   "version": "3.11.13"
  }
 },
 "nbformat": 4,
 "nbformat_minor": 5
}
