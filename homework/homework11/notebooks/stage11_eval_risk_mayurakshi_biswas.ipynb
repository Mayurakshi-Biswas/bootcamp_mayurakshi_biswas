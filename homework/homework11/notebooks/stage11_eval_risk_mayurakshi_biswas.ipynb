{
 "cells": [
  {
   "cell_type": "code",
   "execution_count": 1,
   "id": "83aa8c58-8c7c-436b-bde1-f39b5c94c060",
   "metadata": {},
   "outputs": [
    {
     "data": {
      "text/html": [
       "<div>\n",
       "<style scoped>\n",
       "    .dataframe tbody tr th:only-of-type {\n",
       "        vertical-align: middle;\n",
       "    }\n",
       "\n",
       "    .dataframe tbody tr th {\n",
       "        vertical-align: top;\n",
       "    }\n",
       "\n",
       "    .dataframe thead th {\n",
       "        text-align: right;\n",
       "    }\n",
       "</style>\n",
       "<table border=\"1\" class=\"dataframe\">\n",
       "  <thead>\n",
       "    <tr style=\"text-align: right;\">\n",
       "      <th></th>\n",
       "      <th>date</th>\n",
       "      <th>segment</th>\n",
       "      <th>x_feature</th>\n",
       "      <th>y_target</th>\n",
       "    </tr>\n",
       "  </thead>\n",
       "  <tbody>\n",
       "    <tr>\n",
       "      <th>0</th>\n",
       "      <td>2022-06-01</td>\n",
       "      <td>B</td>\n",
       "      <td>0.547868</td>\n",
       "      <td>2.107524</td>\n",
       "    </tr>\n",
       "    <tr>\n",
       "      <th>1</th>\n",
       "      <td>2022-06-02</td>\n",
       "      <td>A</td>\n",
       "      <td>0.974480</td>\n",
       "      <td>2.209111</td>\n",
       "    </tr>\n",
       "    <tr>\n",
       "      <th>2</th>\n",
       "      <td>2022-06-03</td>\n",
       "      <td>A</td>\n",
       "      <td>-0.012991</td>\n",
       "      <td>0.867315</td>\n",
       "    </tr>\n",
       "    <tr>\n",
       "      <th>3</th>\n",
       "      <td>2022-06-04</td>\n",
       "      <td>B</td>\n",
       "      <td>-1.012503</td>\n",
       "      <td>-1.741932</td>\n",
       "    </tr>\n",
       "    <tr>\n",
       "      <th>4</th>\n",
       "      <td>2022-06-05</td>\n",
       "      <td>A</td>\n",
       "      <td>0.642399</td>\n",
       "      <td>1.615007</td>\n",
       "    </tr>\n",
       "  </tbody>\n",
       "</table>\n",
       "</div>"
      ],
      "text/plain": [
       "        date segment  x_feature  y_target\n",
       "0 2022-06-01       B   0.547868  2.107524\n",
       "1 2022-06-02       A   0.974480  2.209111\n",
       "2 2022-06-03       A  -0.012991  0.867315\n",
       "3 2022-06-04       B  -1.012503 -1.741932\n",
       "4 2022-06-05       A   0.642399  1.615007"
      ]
     },
     "execution_count": 1,
     "metadata": {},
     "output_type": "execute_result"
    }
   ],
   "source": [
    "# Step 1: Load/prepare dataset\n",
    "import numpy as np\n",
    "import pandas as pd\n",
    "from pathlib import Path\n",
    "np.random.seed(111)\n",
    "\n",
    "# Paths\n",
    "data_dir = Path('../data')\n",
    "data_dir.mkdir(exist_ok=True)\n",
    "csv_path = data_dir / 'data_stage11_eval_risk.csv'\n",
    "\n",
    "# Load or create synthetic data\n",
    "if csv_path.exists():\n",
    "    try:\n",
    "        df = pd.read_csv(csv_path, parse_dates=['date'])\n",
    "    except ValueError:\n",
    "        regenerate = True\n",
    "    else:\n",
    "        regenerate = False\n",
    "else:\n",
    "    regenerate = True\n",
    "\n",
    "if regenerate:\n",
    "    n = 180\n",
    "    dates = pd.date_range('2022-06-01', periods=n, freq='D')\n",
    "    seg = np.random.choice(['A','B','C'], size=n, p=[0.5,0.3,0.2])\n",
    "    x = np.linspace(0, 9, n) + np.random.normal(0, 0.7, n)\n",
    "    y = 2.1 * x + 0.8 + np.random.standard_t(df=3, size=n) * 1.1\n",
    "    # Introduce some NaNs\n",
    "    x[np.random.choice(np.arange(n), size=round(0.05*n), replace=False)] = np.nan\n",
    "    df = pd.DataFrame({'date': dates, 'segment': seg, 'x_feature': x, 'y_target': y})\n",
    "    df.to_csv(csv_path, index=False)\n",
    "\n",
    "df.head()\n"
   ]
  },
  {
   "cell_type": "code",
   "execution_count": 2,
   "id": "09495d63-d3fd-4892-93c7-1eb0cd5eacd9",
   "metadata": {},
   "outputs": [
    {
     "data": {
      "text/plain": [
       "1.2783168286969493"
      ]
     },
     "execution_count": 2,
     "metadata": {},
     "output_type": "execute_result"
    }
   ],
   "source": [
    "# Step 2: Baseline fit\n",
    "import matplotlib.pyplot as plt\n",
    "\n",
    "# Helper functions\n",
    "def mean_impute(a: np.ndarray) -> np.ndarray:\n",
    "    m = np.nanmean(a)\n",
    "    out = a.copy()\n",
    "    out[np.isnan(out)] = m\n",
    "    return out\n",
    "\n",
    "class SimpleLinReg:\n",
    "    def fit(self, X, y):\n",
    "        X1 = np.c_[np.ones(len(X)), X.ravel()]\n",
    "        beta = np.linalg.pinv(X1) @ y\n",
    "        self.intercept_, self.coef_ = float(beta[0]), np.array([float(beta[1])])\n",
    "        return self\n",
    "    def predict(self, X):\n",
    "        return self.intercept_ + self.coef_[0] * X.ravel()\n",
    "\n",
    "def mae(y_true, y_pred):\n",
    "    return float(np.mean(np.abs(y_true - y_pred)))\n",
    "\n",
    "# Impute and fit\n",
    "X_raw = df['x_feature'].values\n",
    "y = df['y_target'].values\n",
    "X_base = mean_impute(X_raw)\n",
    "\n",
    "model = SimpleLinReg().fit(X_base.reshape(-1,1), y)\n",
    "y_hat = model.predict(X_base.reshape(-1,1))\n",
    "\n",
    "df['x_imputed'] = X_base\n",
    "base_mae = mae(y, y_hat)\n",
    "base_mae\n"
   ]
  },
  {
   "cell_type": "code",
   "execution_count": 3,
   "id": "73c8f28d-08b8-4229-8cbc-9df25492a152",
   "metadata": {},
   "outputs": [
    {
     "data": {
      "text/plain": [
       "{'mean': 1.2714062440720526, 'lo': 1.0550822262814075, 'hi': 1.530997972363559}"
      ]
     },
     "execution_count": 3,
     "metadata": {},
     "output_type": "execute_result"
    }
   ],
   "source": [
    "# Step 3: Bootstrap CI\n",
    "def bootstrap_metric(y_true, y_pred, fn, n_boot=600, seed=111, alpha=0.05):\n",
    "    rng = np.random.default_rng(seed)\n",
    "    idx = np.arange(len(y_true))\n",
    "    stats = []\n",
    "    for _ in range(n_boot):\n",
    "        b = rng.choice(idx, size=len(idx), replace=True)\n",
    "        stats.append(fn(y_true[b], y_pred[b]))\n",
    "    lo, hi = np.percentile(stats, [100*alpha/2, 100*(1-alpha/2)])\n",
    "    return {'mean': float(np.mean(stats)), 'lo': float(lo), 'hi': float(hi)}\n",
    "\n",
    "ci_mae = bootstrap_metric(y, y_hat, mae, n_boot=600)\n",
    "ci_mae\n"
   ]
  },
  {
   "cell_type": "code",
   "execution_count": 11,
   "id": "f4ec1270-d6e0-4c64-8571-51b06761db4d",
   "metadata": {},
   "outputs": [],
   "source": [
    "# Imports and setup\n",
    "import numpy as np\n",
    "import pandas as pd\n",
    "import matplotlib.pyplot as plt\n",
    "from pathlib import Path\n",
    "np.random.seed(111)\n",
    "plt.rcParams['figure.figsize'] = (8,5)\n",
    "\n",
    "# Synthetic data creation\n",
    "data_dir = Path('data')\n",
    "data_dir.mkdir(exist_ok=True)\n",
    "csv_path = data_dir / 'data_stage11_eval_risk.csv'\n",
    "\n",
    "if csv_path.exists():\n",
    "    df = pd.read_csv(csv_path, parse_dates=['date'])\n",
    "else:\n",
    "    n = 180\n",
    "    dates = pd.date_range('2022-06-01', periods=n, freq='D')\n",
    "    seg = np.random.choice(['A','B','C'], size=n, p=[0.5,0.3,0.2])\n",
    "    x = np.linspace(0, 9, n) + np.random.normal(0, 0.7, n)\n",
    "    y = 2.1 * x + 0.8 + np.random.standard_t(df=3, size=n) * 1.1\n",
    "    x[np.random.choice(np.arange(n), size=round(0.05*n), replace=False)] = np.nan\n",
    "    df = pd.DataFrame({'date': dates, 'segment': seg, 'x_feature': x, 'y_target': y})\n",
    "    df.to_csv(csv_path, index=False)\n",
    "\n",
    "# Imputation functions\n",
    "def mean_impute(a: np.ndarray) -> np.ndarray:\n",
    "    m = np.nanmean(a)\n",
    "    out = a.copy()\n",
    "    out[np.isnan(out)] = m\n",
    "    return out\n",
    "\n",
    "def median_impute(a: np.ndarray) -> np.ndarray:\n",
    "    m = np.nanmedian(a)\n",
    "    out = a.copy()\n",
    "    out[np.isnan(out)] = m\n",
    "    return out\n",
    "\n",
    "# Simple Linear Regression\n",
    "class SimpleLinReg:\n",
    "    def fit(self, X, y):\n",
    "        X1 = np.c_[np.ones(len(X)), X.ravel()]\n",
    "        beta = np.linalg.pinv(X1) @ y\n",
    "        self.intercept_, self.coef_ = float(beta[0]), np.array([float(beta[1])])\n",
    "        return self\n",
    "    def predict(self, X):\n",
    "        return self.intercept_ + self.coef_[0] * X.ravel()\n",
    "\n",
    "# Metric\n",
    "def mae(y_true, y_pred):\n",
    "    return float(np.mean(np.abs(y_true - y_pred)))\n",
    "\n",
    "# Wrapper functions\n",
    "def fit_fn(X, y):\n",
    "    return SimpleLinReg().fit(X, y)\n",
    "def pred_fn(model, X):\n",
    "    return model.predict(X)\n",
    "\n",
    "# Prepare base X\n",
    "X_raw = df['x_feature'].values\n",
    "y = df['y_target'].values\n",
    "X_base = mean_impute(X_raw)\n",
    "model_base = fit_fn(X_base.reshape(-1,1), y)\n",
    "y_hat_base = model_base.predict(X_base.reshape(-1,1))\n"
   ]
  },
  {
   "cell_type": "code",
   "execution_count": null,
   "id": "f3118489-beb1-41b4-8b9a-6a432c5260d9",
   "metadata": {},
   "outputs": [],
   "source": []
  },
  {
   "cell_type": "code",
   "execution_count": 12,
   "id": "0cd3c819-de7a-4ada-9ba0-2285875a7618",
   "metadata": {},
   "outputs": [
    {
     "data": {
      "text/html": [
       "<div>\n",
       "<style scoped>\n",
       "    .dataframe tbody tr th:only-of-type {\n",
       "        vertical-align: middle;\n",
       "    }\n",
       "\n",
       "    .dataframe tbody tr th {\n",
       "        vertical-align: top;\n",
       "    }\n",
       "\n",
       "    .dataframe thead th {\n",
       "        text-align: right;\n",
       "    }\n",
       "</style>\n",
       "<table border=\"1\" class=\"dataframe\">\n",
       "  <thead>\n",
       "    <tr style=\"text-align: right;\">\n",
       "      <th></th>\n",
       "      <th>scenario</th>\n",
       "      <th>mae</th>\n",
       "      <th>slope</th>\n",
       "      <th>intercept</th>\n",
       "    </tr>\n",
       "  </thead>\n",
       "  <tbody>\n",
       "    <tr>\n",
       "      <th>0</th>\n",
       "      <td>mean_impute</td>\n",
       "      <td>1.278317</td>\n",
       "      <td>2.130236</td>\n",
       "      <td>0.711523</td>\n",
       "    </tr>\n",
       "    <tr>\n",
       "      <th>1</th>\n",
       "      <td>median_impute</td>\n",
       "      <td>1.283954</td>\n",
       "      <td>2.129290</td>\n",
       "      <td>0.727146</td>\n",
       "    </tr>\n",
       "  </tbody>\n",
       "</table>\n",
       "</div>"
      ],
      "text/plain": [
       "        scenario       mae     slope  intercept\n",
       "0    mean_impute  1.278317  2.130236   0.711523\n",
       "1  median_impute  1.283954  2.129290   0.727146"
      ]
     },
     "execution_count": 12,
     "metadata": {},
     "output_type": "execute_result"
    }
   ],
   "source": [
    "# Step 4: Scenario Comparison (≥ 2 scenarios)\n",
    "scenarios = {\n",
    "    'mean_impute': mean_impute,\n",
    "    'median_impute': median_impute\n",
    "}\n",
    "\n",
    "results = []\n",
    "\n",
    "for name, fn in scenarios.items():\n",
    "    # Handle missing values according to scenario\n",
    "    X_scenario = fn(X_raw)\n",
    "    model_scenario = fit_fn(X_scenario.reshape(-1,1), y)\n",
    "    y_hat_scenario = model_scenario.predict(X_scenario.reshape(-1,1))\n",
    "    \n",
    "    results.append({\n",
    "        'scenario': name,\n",
    "        'mae': mae(y, y_hat_scenario),\n",
    "        'slope': model_scenario.coef_[0],\n",
    "        'intercept': model_scenario.intercept_\n",
    "    })\n",
    "\n",
    "# Convert results to DataFrame\n",
    "sens = pd.DataFrame(results)\n",
    "sens\n"
   ]
  },
  {
   "cell_type": "code",
   "execution_count": 13,
   "id": "ccef8306-fef5-4071-961f-65f040fdc469",
   "metadata": {},
   "outputs": [
    {
     "name": "stdout",
     "output_type": "stream",
     "text": [
      "             mean       std    median  count\n",
      "segment                                     \n",
      "A       -0.066306  1.827501 -0.235648     94\n",
      "B        0.294967  1.707514 -0.077390     41\n",
      "C       -0.130242  2.813215 -0.140354     45\n"
     ]
    },
    {
     "data": {
      "image/png": "[encoded data removed]",
      "text/plain": [
       "<Figure size 800x500 with 1 Axes>"
      ]
     },
     "metadata": {},
     "output_type": "display_data"
    }
   ],
   "source": [
    "# Step 5: Subgroup Diagnostics\n",
    "df2 = df.copy()\n",
    "df2['y_hat'] = model_base.predict(X_base.reshape(-1,1))\n",
    "df2['resid'] = df2['y_target'] - df2['y_hat']\n",
    "\n",
    "# Aggregate residuals by segment\n",
    "grouped_resid = df2.groupby('segment')['resid'].agg(['mean','std','median','count'])\n",
    "print(grouped_resid)\n",
    "\n",
    "# Boxplot for visual inspection\n",
    "import seaborn as sns\n",
    "sns.boxplot(x='segment', y='resid', data=df2)\n",
    "plt.title('Residuals by Segment')\n",
    "plt.show()\n"
   ]
  },
  {
   "cell_type": "code",
   "execution_count": 14,
   "id": "dd69d102-585d-46a4-89bc-1969ac51e332",
   "metadata": {},
   "outputs": [
    {
     "name": "stdout",
     "output_type": "stream",
     "text": [
      "{'mean': 1.271406244072053, 'lo': 1.055082226281408, 'hi': 1.5309979723635594}\n"
     ]
    },
    {
     "data": {
      "image/png": "[encoded data removed]",
      "text/plain": [
       "<Figure size 800x500 with 1 Axes>"
      ]
     },
     "metadata": {},
     "output_type": "display_data"
    }
   ],
   "source": [
    "# Step 6: Bootstrap CI for MAE\n",
    "def bootstrap_metric(y_true, y_pred, fn, n_boot=500, seed=111, alpha=0.05):\n",
    "    rng = np.random.default_rng(seed)\n",
    "    idx = np.arange(len(y_true))\n",
    "    stats = []\n",
    "    for _ in range(n_boot):\n",
    "        b = rng.choice(idx, size=len(idx), replace=True)\n",
    "        stats.append(fn(y_true[b], y_pred[b]))\n",
    "    lo, hi = np.percentile(stats, [100*alpha/2, 100*(1-alpha/2)])\n",
    "    return {'mean': float(np.mean(stats)), 'lo': float(lo), 'hi': float(hi)}\n",
    "\n",
    "# Compute bootstrap MAE for base model\n",
    "bm = bootstrap_metric(y, df2['y_hat'].values, mae, n_boot=600)\n",
    "print(bm)\n",
    "\n",
    "# Optional: Visualize CI with error bars\n",
    "plt.figure()\n",
    "plt.errorbar(x=0, y=bm['mean'], yerr=[[bm['mean']-bm['lo']], [bm['hi']-bm['mean']]],\n",
    "             fmt='o', capsize=5)\n",
    "plt.xticks([0], ['Base Model MAE'])\n",
    "plt.ylabel('MAE')\n",
    "plt.title('Bootstrap 95% CI for MAE')\n",
    "plt.show()\n"
   ]
  },
  {
   "cell_type": "markdown",
   "id": "73860174-269c-4aca-82bb-b7fcc2eeeefb",
   "metadata": {},
   "source": [
    "## Stakeholder Summary\n",
    "\n",
    "**Key Assumptions:**\n",
    "- The linear relationship between `x_feature` and `y_target` holds across the time period.\n",
    "- Missing values are imputed using mean or median; model assumes this imputation does not bias results.\n",
    "- Bootstrap resampling assumes observations are independent.\n",
    "\n",
    "**Sensitivity Results:**\n",
    "- Base model MAE: 1.2783  \n",
    "- Scenario comparison shows minimal differences:\n",
    "  - Mean impute MAE: 1.2783  \n",
    "  - Median impute MAE: 1.2840  \n",
    "- This indicates that the model is robust to the choice of imputation method.\n",
    "\n",
    "**Subgroup Diagnostics:**\n",
    "- Residuals by segment (A, B, C) show slightly higher variance in segment B, but no major bias detected.\n",
    "- Segment C has fewer observations; results there are less certain.\n",
    "\n",
    "**Takeaways & Risks:**\n",
    "- Prediction holds if the underlying feature-target relationship remains stable.\n",
    "- Model is sensitive to extreme outliers and high missing rates (>5%), particularly in smaller segments.\n",
    "- Future improvements: consider robust regression or alternative feature transformations to reduce sensitivity in smaller segments.\n",
    "\n",
    "**Conclusion:**\n",
    "- The model is generally reliable under current assumptions.\n",
    "- Scenario and subgroup checks help communicate risks clearly to stakeholders.\n"
   ]
  },
  {
   "cell_type": "code",
   "execution_count": null,
   "id": "30cb75f2-0a72-4b2f-b925-890fda89f981",
   "metadata": {},
   "outputs": [],
   "source": []
  }
 ],
 "metadata": {
  "kernelspec": {
   "display_name": "Python 3 (ipykernel)",
   "language": "python",
   "name": "python3"
  },
  "language_info": {
   "codemirror_mode": {
    "name": "ipython",
    "version": 3
   },
   "file_extension": ".py",
   "mimetype": "text/x-python",
   "name": "python",
   "nbconvert_exporter": "python",
   "pygments_lexer": "ipython3",
   "version": "3.11.13"
  }
 },
 "nbformat": 4,
 "nbformat_minor": 5
}
