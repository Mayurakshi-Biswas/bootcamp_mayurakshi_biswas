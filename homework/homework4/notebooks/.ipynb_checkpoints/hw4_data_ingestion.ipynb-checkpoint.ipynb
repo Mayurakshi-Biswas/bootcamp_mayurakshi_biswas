{
 "cells": [
  {
   "cell_type": "code",
   "execution_count": 2,
   "id": "3b547bc9-bbbb-4ceb-bcfb-d20f5ac1cd56",
   "metadata": {},
   "outputs": [
    {
     "name": "stdout",
     "output_type": "stream",
     "text": [
      "ALPHAVANTAGE_API_KEY loaded? True\n"
     ]
    }
   ],
   "source": [
    "from dotenv import load_dotenv\n",
    "import os\n",
    "\n",
    "load_dotenv()  # loads variables from .env file\n",
    "print('ALPHAVANTAGE_API_KEY loaded?', bool(os.getenv('ALPHAVANTAGE_API_KEY')))\n"
   ]
  },
  {
   "cell_type": "code",
   "execution_count": 2,
   "id": "fa7e58d4-60ca-4c09-8dc8-3d2128d07c4f",
   "metadata": {},
   "outputs": [
    {
     "name": "stdout",
     "output_type": "stream",
     "text": [
      "ALPHAVANTAGE_API_KEY loaded? True\n"
     ]
    }
   ],
   "source": [
    "import os\n",
    "import pathlib\n",
    "import datetime as dt\n",
    "import requests\n",
    "import pandas as pd\n",
    "from bs4 import BeautifulSoup\n",
    "from dotenv import load_dotenv\n",
    "\n",
    "# Create raw data folder\n",
    "RAW = pathlib.Path('data/raw')\n",
    "RAW.mkdir(parents=True, exist_ok=True)\n",
    "\n",
    "# Load API key from .env\n",
    "load_dotenv()\n",
    "print('ALPHAVANTAGE_API_KEY loaded?', bool(os.getenv('ALPHAVANTAGE_API_KEY')))\n"
   ]
  },
  {
   "cell_type": "code",
   "execution_count": 3,
   "id": "49f1de06-76b1-4afa-a10c-fe2109c13205",
   "metadata": {},
   "outputs": [],
   "source": [
    "def ts():\n",
    "    return dt.datetime.now().strftime('%Y%m%d-%H%M%S')\n",
    "\n",
    "def save_csv(df: pd.DataFrame, prefix: str, **meta):\n",
    "    mid = '_'.join([f\"{k}-{v}\" for k,v in meta.items()])\n",
    "    path = RAW / f\"{prefix}_{mid}_{ts()}.csv\"\n",
    "    df.to_csv(path, index=False)\n",
    "    print('Saved', path)\n",
    "    return path\n",
    "\n",
    "def validate(df: pd.DataFrame, required):\n",
    "    missing = [c for c in required if c not in df.columns]\n",
    "    return {'missing': missing, 'shape': df.shape, 'na_total': int(df.isna().sum().sum())}\n"
   ]
  },
  {
   "cell_type": "code",
   "execution_count": 4,
   "id": "72f131ad-eb55-4671-b5c3-5c2c9f272afb",
   "metadata": {},
   "outputs": [
    {
     "name": "stdout",
     "output_type": "stream",
     "text": [
      "No Time Series data found in Alpha Vantage response. Switching to yfinance fallback.\n"
     ]
    },
    {
     "name": "stderr",
     "output_type": "stream",
     "text": [
      "[*********************100%***********************]  1 of 1 completed\n",
      "\n",
      "1 Failed download:\n",
      "['AAPL']: YFRateLimitError('Too Many Requests. Rate limited. Try after a while.')\n"
     ]
    },
    {
     "name": "stdout",
     "output_type": "stream",
     "text": [
      "API Validation: {'missing': [], 'shape': (0, 2), 'na_total': 0}\n",
      "Saved data/raw/api_source-yfinance_symbol-AAPL_20250820-233154.csv\n"
     ]
    }
   ],
   "source": [
    "SYMBOL = 'AAPL'\n",
    "USE_ALPHA = bool(os.getenv('ALPHAVANTAGE_API_KEY'))\n",
    "\n",
    "if USE_ALPHA:\n",
    "    url = 'https://www.alphavantage.co/query'\n",
    "    params = {\n",
    "        'function': 'TIME_SERIES_DAILY_ADJUSTED',\n",
    "        'symbol': SYMBOL,\n",
    "        'outputsize': 'compact',\n",
    "        'apikey': os.getenv('ALPHAVANTAGE_API_KEY')\n",
    "    }\n",
    "    r = requests.get(url, params=params, timeout=30)\n",
    "    r.raise_for_status()\n",
    "    js = r.json()\n",
    "    \n",
    "    # Check Time Series key\n",
    "    ts_keys = [k for k in js if 'Time Series' in k]\n",
    "    if not ts_keys:\n",
    "        print(\"No Time Series data found in Alpha Vantage response. Switching to yfinance fallback.\")\n",
    "        USE_ALPHA = False\n",
    "    \n",
    "if not USE_ALPHA:\n",
    "    import yfinance as yf\n",
    "    df_api = yf.download(SYMBOL, period='3mo', interval='1d').reset_index()[['Date','Adj Close']]\n",
    "    df_api.columns = ['date','adj_close']\n",
    "\n",
    "# Convert types\n",
    "df_api['date'] = pd.to_datetime(df_api['date'])\n",
    "df_api['adj_close'] = pd.to_numeric(df_api['adj_close'])\n",
    "\n",
    "# Validate and save\n",
    "v_api = validate(df_api, ['date','adj_close'])\n",
    "print('API Validation:', v_api)\n",
    "_ = save_csv(df_api.sort_values('date'), prefix='api', source='yfinance' if not USE_ALPHA else 'alpha', symbol=SYMBOL)\n"
   ]
  },
  {
   "cell_type": "code",
   "execution_count": 5,
   "id": "4f656c4a-7c4b-4d19-b8ce-e5a1272d16c3",
   "metadata": {},
   "outputs": [
    {
     "name": "stdout",
     "output_type": "stream",
     "text": [
      "Scrape failed, using inline demo table: 1 columns passed, passed data had 6 columns\n",
      "Scrape Validation: {'missing': [], 'shape': (1, 2), 'na_total': 0}\n",
      "Saved data/raw/scrape_site-nasdaq_table_table-markets_20250820-233432.csv\n"
     ]
    }
   ],
   "source": [
    "import requests\n",
    "from bs4 import BeautifulSoup\n",
    "\n",
    "SCRAPE_URL = 'https://www.nasdaq.com/market-activity/stocks/screener'  # example public page\n",
    "headers = {'User-Agent':'AFE-Homework/1.0'}\n",
    "\n",
    "try:\n",
    "    resp = requests.get(SCRAPE_URL, headers=headers, timeout=30)\n",
    "    resp.raise_for_status()\n",
    "    soup = BeautifulSoup(resp.text, 'html.parser')\n",
    "\n",
    "    # Extract table rows\n",
    "    rows = [[c.get_text(strip=True) for c in tr.find_all(['th','td'])] for tr in soup.find_all('tr')]\n",
    "    # Filter out empty rows\n",
    "    rows = [r for r in rows if r]\n",
    "    header, *data = rows\n",
    "\n",
    "    # Create DataFrame\n",
    "    df_scrape = pd.DataFrame(data, columns=header)\n",
    "except Exception as e:\n",
    "    print('Scrape failed, using inline demo table:', e)\n",
    "    html = '<table><tr><th>Ticker</th><th>Price</th></tr><tr><td>AAA</td><td>101.2</td></tr></table>'\n",
    "    soup = BeautifulSoup(html, 'html.parser')\n",
    "    rows = [[c.get_text(strip=True) for c in tr.find_all(['th','td'])] for tr in soup.find_all('tr')]\n",
    "    header, *data = [r for r in rows if r]\n",
    "    df_scrape = pd.DataFrame(data, columns=header)\n",
    "\n",
    "# Convert numeric columns\n",
    "if 'Price' in df_scrape.columns:\n",
    "    df_scrape['Price'] = pd.to_numeric(df_scrape['Price'], errors='coerce')\n",
    "\n",
    "# Validate\n",
    "v_scrape = validate(df_scrape, list(df_scrape.columns))\n",
    "print('Scrape Validation:', v_scrape)\n",
    "\n",
    "# Save CSV\n",
    "_ = save_csv(df_scrape, prefix='scrape', site='nasdaq_table', table='markets')\n"
   ]
  },
  {
   "cell_type": "markdown",
   "id": "f1d68b95-4438-47d0-954c-c7d8f4c5d7c7",
   "metadata": {},
   "source": [
    "## Step 5: Documentation, Assumptions & Risks\n",
    "\n",
    "### Data Sources\n",
    "1. **API:** Alpha Vantage / Yahoo Finance fallback (`AAPL` daily adjusted close prices)\n",
    "2. **Scrape:** Example market table (fallback inline HTML table used due to live scrape failure)\n",
    "\n",
    "### Parameters\n",
    "- Symbol: `AAPL`\n",
    "- API: Alpha Vantage (key from `.env`) or `yfinance` fallback\n",
    "- Scrape URL: placeholder `https://example.com/markets-table`\n",
    "- CSV files saved to: `data/raw/`\n",
    "\n",
    "### Validation Logic\n",
    "- API data:\n",
    "  - Required columns: `date`, `adj_close`\n",
    "  - Check for missing columns, total NA values, shape\n",
    "- Scrape data:\n",
    "  - Required columns: all columns in table\n",
    "  - Check for missing columns, total NA values, shape\n",
    "\n",
    "### Assumptions & Risks\n",
    "- API fallback ensures workflow works if Alpha Vantage premium endpoint is unavailable\n",
    "- Scrape fallback ensures reproducibility even if the webpage is unreachable\n",
    "- Rate limits on `yfinance` may prevent fetching recent data immediately\n",
    "- CSV files are timestamped for versioning\n"
   ]
  },
  {
   "cell_type": "code",
   "execution_count": 6,
   "id": "b8c376b3-8fe2-429a-8480-5ff7dea9f9e6",
   "metadata": {},
   "outputs": [
    {
     "name": "stdout",
     "output_type": "stream",
     "text": [
      "ALPHAVANTAGE_API_KEY loaded? True\n",
      "api_source-yfinance_symbol-AAPL_20250820-232435.csv\n",
      "api_source-yfinance_symbol-AAPL_20250820-233154.csv\n",
      "scrape_site-nasdaq_table-markets_20250820-232436.csv\n",
      "scrape_site-nasdaq_table_table-markets_20250820-233432.csv\n"
     ]
    }
   ],
   "source": [
    "# Confirm .env is not committed and show what API key is loaded\n",
    "import os\n",
    "from dotenv import load_dotenv\n",
    "\n",
    "load_dotenv()\n",
    "print(\"ALPHAVANTAGE_API_KEY loaded?\", bool(os.getenv('ALPHAVANTAGE_API_KEY')))\n",
    "\n",
    "# List all CSVs saved in data/raw/ for reference\n",
    "import pathlib\n",
    "\n",
    "RAW = pathlib.Path('data/raw')\n",
    "for f in sorted(RAW.glob('*.csv')):\n",
    "    print(f.name)\n"
   ]
  },
  {
   "cell_type": "code",
   "execution_count": null,
   "id": "0a7f83f9-0d69-4e58-9025-7eefe8ec7dae",
   "metadata": {},
   "outputs": [],
   "source": []
  }
 ],
 "metadata": {
  "kernelspec": {
   "display_name": "Python 3 (ipykernel)",
   "language": "python",
   "name": "python3"
  },
  "language_info": {
   "codemirror_mode": {
    "name": "ipython",
    "version": 3
   },
   "file_extension": ".py",
   "mimetype": "text/x-python",
   "name": "python",
   "nbconvert_exporter": "python",
   "pygments_lexer": "ipython3",
   "version": "3.11.13"
  }
 },
 "nbformat": 4,
 "nbformat_minor": 5
}
